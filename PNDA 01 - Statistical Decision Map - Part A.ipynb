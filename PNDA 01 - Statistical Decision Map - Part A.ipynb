{
 "cells": [
  {
   "cell_type": "markdown",
   "id": "917a7975-a621-45b3-88ae-deb92f7c9ed4",
   "metadata": {},
   "source": [
    "# Statistical Road Map\n",
    "\n",
    "### Libraries"
   ]
  },
  {
   "cell_type": "code",
   "execution_count": 1,
   "id": "ede1a8be-fac9-4a67-b2a2-045dc952caec",
   "metadata": {},
   "outputs": [],
   "source": [
    "import numpy as np\n",
    "import pandas as pd\n",
    "\n",
    "import seaborn as sns\n",
    "import matplotlib.pyplot as plt\n",
    "%matplotlib inline"
   ]
  },
  {
   "cell_type": "code",
   "execution_count": 58,
   "id": "7b891dfb-d0a6-4c93-912d-8b58a92bea5f",
   "metadata": {},
   "outputs": [],
   "source": [
    "import scipy.stats as stats                                # Import the main scipy.stats module (general statistics)\n",
    "from scipy.stats import shapiro, anderson, normaltest      # Normality tests: Shapiro–Wilk, Anderson–Darling, D’Agostino K²\n",
    "from scipy.stats import kendalltau, spearmanr              # Rank correlation tests: Kendall’s tau, Spearman’s rho\n",
    "from scipy.stats import pointbiserialr                     # Point–Biserial correlation (binary vs continuous)\n",
    "from scipy.stats import chi2_contingency, fisher_exact     # Chi-Square test of independence, Fisher’s exact test\n",
    "from scipy.stats import levene, bartlett                   # Variance equality tests: Levene’s (robust), Bartlett’s (normality assumed)\n",
    "from statsmodels.stats.multicomp import pairwise_tukeyhsd  # Tukey’s Honestly Significant Difference (post-hoc comparisons)\n",
    "from statsmodels.stats.oneway import anova_oneway          # One-way ANOVA (including Welch’s when use_var='unequal')\n",
    "import pingouin as pg                                      # Import pingouin for Games-Howell test for unequal variances\n",
    "import scikit_posthocs as sp"
   ]
  },
  {
   "cell_type": "markdown",
   "id": "c086678b-0c93-4ae1-99ab-6cfa6089e945",
   "metadata": {},
   "source": [
    "# Anscombe's Dataset\n",
    "In 1973 Frank J. Anscombe presented four datasets descriptive statistics, but the distributions are very different."
   ]
  },
  {
   "cell_type": "code",
   "execution_count": 3,
   "id": "513caffb-61a0-48d1-a552-a7e5ce4ae0d0",
   "metadata": {},
   "outputs": [
    {
     "data": {
      "text/html": [
       "<div>\n",
       "<style scoped>\n",
       "    .dataframe tbody tr th:only-of-type {\n",
       "        vertical-align: middle;\n",
       "    }\n",
       "\n",
       "    .dataframe tbody tr th {\n",
       "        vertical-align: top;\n",
       "    }\n",
       "\n",
       "    .dataframe thead th {\n",
       "        text-align: right;\n",
       "    }\n",
       "</style>\n",
       "<table border=\"1\" class=\"dataframe\">\n",
       "  <thead>\n",
       "    <tr style=\"text-align: right;\">\n",
       "      <th></th>\n",
       "      <th>Dataset</th>\n",
       "      <th>x</th>\n",
       "      <th>y</th>\n",
       "    </tr>\n",
       "  </thead>\n",
       "  <tbody>\n",
       "    <tr>\n",
       "      <th>0</th>\n",
       "      <td>A</td>\n",
       "      <td>10</td>\n",
       "      <td>8.04</td>\n",
       "    </tr>\n",
       "    <tr>\n",
       "      <th>1</th>\n",
       "      <td>A</td>\n",
       "      <td>8</td>\n",
       "      <td>6.95</td>\n",
       "    </tr>\n",
       "    <tr>\n",
       "      <th>2</th>\n",
       "      <td>A</td>\n",
       "      <td>13</td>\n",
       "      <td>7.58</td>\n",
       "    </tr>\n",
       "    <tr>\n",
       "      <th>3</th>\n",
       "      <td>A</td>\n",
       "      <td>9</td>\n",
       "      <td>8.81</td>\n",
       "    </tr>\n",
       "    <tr>\n",
       "      <th>4</th>\n",
       "      <td>A</td>\n",
       "      <td>11</td>\n",
       "      <td>8.33</td>\n",
       "    </tr>\n",
       "  </tbody>\n",
       "</table>\n",
       "</div>"
      ],
      "text/plain": [
       "  Dataset   x     y\n",
       "0       A  10  8.04\n",
       "1       A   8  6.95\n",
       "2       A  13  7.58\n",
       "3       A   9  8.81\n",
       "4       A  11  8.33"
      ]
     },
     "execution_count": 3,
     "metadata": {},
     "output_type": "execute_result"
    }
   ],
   "source": [
    "df = pd.read_csv('datasets/anscombe.csv')\n",
    "\n",
    "df.head()"
   ]
  },
  {
   "cell_type": "code",
   "execution_count": 4,
   "id": "087c7665-b2af-49f8-abfa-e7f7151d93b8",
   "metadata": {},
   "outputs": [
    {
     "data": {
      "text/html": [
       "<div>\n",
       "<style scoped>\n",
       "    .dataframe tbody tr th:only-of-type {\n",
       "        vertical-align: middle;\n",
       "    }\n",
       "\n",
       "    .dataframe tbody tr th {\n",
       "        vertical-align: top;\n",
       "    }\n",
       "\n",
       "    .dataframe thead tr th {\n",
       "        text-align: left;\n",
       "    }\n",
       "\n",
       "    .dataframe thead tr:last-of-type th {\n",
       "        text-align: right;\n",
       "    }\n",
       "</style>\n",
       "<table border=\"1\" class=\"dataframe\">\n",
       "  <thead>\n",
       "    <tr>\n",
       "      <th></th>\n",
       "      <th colspan=\"2\" halign=\"left\">x</th>\n",
       "      <th colspan=\"2\" halign=\"left\">y</th>\n",
       "    </tr>\n",
       "    <tr>\n",
       "      <th></th>\n",
       "      <th>mean</th>\n",
       "      <th>std</th>\n",
       "      <th>mean</th>\n",
       "      <th>std</th>\n",
       "    </tr>\n",
       "    <tr>\n",
       "      <th>Dataset</th>\n",
       "      <th></th>\n",
       "      <th></th>\n",
       "      <th></th>\n",
       "      <th></th>\n",
       "    </tr>\n",
       "  </thead>\n",
       "  <tbody>\n",
       "    <tr>\n",
       "      <th>A</th>\n",
       "      <td>9.0</td>\n",
       "      <td>3.316625</td>\n",
       "      <td>7.500909</td>\n",
       "      <td>2.031568</td>\n",
       "    </tr>\n",
       "    <tr>\n",
       "      <th>B</th>\n",
       "      <td>9.0</td>\n",
       "      <td>3.316625</td>\n",
       "      <td>7.500909</td>\n",
       "      <td>2.031657</td>\n",
       "    </tr>\n",
       "    <tr>\n",
       "      <th>C</th>\n",
       "      <td>9.0</td>\n",
       "      <td>3.316625</td>\n",
       "      <td>7.500000</td>\n",
       "      <td>2.030424</td>\n",
       "    </tr>\n",
       "    <tr>\n",
       "      <th>D</th>\n",
       "      <td>9.0</td>\n",
       "      <td>3.316625</td>\n",
       "      <td>7.500909</td>\n",
       "      <td>2.030579</td>\n",
       "    </tr>\n",
       "  </tbody>\n",
       "</table>\n",
       "</div>"
      ],
      "text/plain": [
       "           x                   y          \n",
       "        mean       std      mean       std\n",
       "Dataset                                   \n",
       "A        9.0  3.316625  7.500909  2.031568\n",
       "B        9.0  3.316625  7.500909  2.031657\n",
       "C        9.0  3.316625  7.500000  2.030424\n",
       "D        9.0  3.316625  7.500909  2.030579"
      ]
     },
     "execution_count": 4,
     "metadata": {},
     "output_type": "execute_result"
    }
   ],
   "source": [
    "anscombe_table = df.groupby('Dataset').agg({'x': ['mean', 'std'],\n",
    "                                            'y': ['mean', 'std']})\n",
    "anscombe_table.head()"
   ]
  },
  {
   "cell_type": "markdown",
   "id": "c4d91f6f-ed26-45f7-acfc-415869f93ac3",
   "metadata": {},
   "source": [
    "The mean and standard deviations of the four groups are the same."
   ]
  },
  {
   "cell_type": "code",
   "execution_count": 5,
   "id": "521bf91a-0664-4c98-bdfc-d8924579a4f5",
   "metadata": {},
   "outputs": [
    {
     "data": {
      "text/html": [
       "<div>\n",
       "<style scoped>\n",
       "    .dataframe tbody tr th:only-of-type {\n",
       "        vertical-align: middle;\n",
       "    }\n",
       "\n",
       "    .dataframe tbody tr th {\n",
       "        vertical-align: top;\n",
       "    }\n",
       "\n",
       "    .dataframe thead th {\n",
       "        text-align: right;\n",
       "    }\n",
       "</style>\n",
       "<table border=\"1\" class=\"dataframe\">\n",
       "  <thead>\n",
       "    <tr style=\"text-align: right;\">\n",
       "      <th></th>\n",
       "      <th></th>\n",
       "      <th>x</th>\n",
       "      <th>y</th>\n",
       "    </tr>\n",
       "    <tr>\n",
       "      <th>Dataset</th>\n",
       "      <th></th>\n",
       "      <th></th>\n",
       "      <th></th>\n",
       "    </tr>\n",
       "  </thead>\n",
       "  <tbody>\n",
       "    <tr>\n",
       "      <th rowspan=\"2\" valign=\"top\">A</th>\n",
       "      <th>x</th>\n",
       "      <td>1.00</td>\n",
       "      <td>0.82</td>\n",
       "    </tr>\n",
       "    <tr>\n",
       "      <th>y</th>\n",
       "      <td>0.82</td>\n",
       "      <td>1.00</td>\n",
       "    </tr>\n",
       "    <tr>\n",
       "      <th rowspan=\"2\" valign=\"top\">B</th>\n",
       "      <th>x</th>\n",
       "      <td>1.00</td>\n",
       "      <td>0.82</td>\n",
       "    </tr>\n",
       "    <tr>\n",
       "      <th>y</th>\n",
       "      <td>0.82</td>\n",
       "      <td>1.00</td>\n",
       "    </tr>\n",
       "    <tr>\n",
       "      <th rowspan=\"2\" valign=\"top\">C</th>\n",
       "      <th>x</th>\n",
       "      <td>1.00</td>\n",
       "      <td>0.82</td>\n",
       "    </tr>\n",
       "    <tr>\n",
       "      <th>y</th>\n",
       "      <td>0.82</td>\n",
       "      <td>1.00</td>\n",
       "    </tr>\n",
       "    <tr>\n",
       "      <th rowspan=\"2\" valign=\"top\">D</th>\n",
       "      <th>x</th>\n",
       "      <td>1.00</td>\n",
       "      <td>0.82</td>\n",
       "    </tr>\n",
       "    <tr>\n",
       "      <th>y</th>\n",
       "      <td>0.82</td>\n",
       "      <td>1.00</td>\n",
       "    </tr>\n",
       "  </tbody>\n",
       "</table>\n",
       "</div>"
      ],
      "text/plain": [
       "              x     y\n",
       "Dataset              \n",
       "A       x  1.00  0.82\n",
       "        y  0.82  1.00\n",
       "B       x  1.00  0.82\n",
       "        y  0.82  1.00\n",
       "C       x  1.00  0.82\n",
       "        y  0.82  1.00\n",
       "D       x  1.00  0.82\n",
       "        y  0.82  1.00"
      ]
     },
     "execution_count": 5,
     "metadata": {},
     "output_type": "execute_result"
    }
   ],
   "source": [
    "df.groupby('Dataset').corr().round(2)"
   ]
  },
  {
   "cell_type": "markdown",
   "id": "5ce4330c-b817-4599-95d8-3b86b7daa081",
   "metadata": {},
   "source": [
    "The correlation between the variables in each dataset is also the same."
   ]
  },
  {
   "cell_type": "code",
   "execution_count": 6,
   "id": "6bf247a7-2225-4d42-8f3c-f298d3ab5ee9",
   "metadata": {},
   "outputs": [
    {
     "data": {
      "text/html": [
       "<div>\n",
       "<style scoped>\n",
       "    .dataframe tbody tr th:only-of-type {\n",
       "        vertical-align: middle;\n",
       "    }\n",
       "\n",
       "    .dataframe tbody tr th {\n",
       "        vertical-align: top;\n",
       "    }\n",
       "\n",
       "    .dataframe thead th {\n",
       "        text-align: right;\n",
       "    }\n",
       "</style>\n",
       "<table border=\"1\" class=\"dataframe\">\n",
       "  <thead>\n",
       "    <tr style=\"text-align: right;\">\n",
       "      <th></th>\n",
       "      <th>x</th>\n",
       "      <th>y</th>\n",
       "    </tr>\n",
       "  </thead>\n",
       "  <tbody>\n",
       "    <tr>\n",
       "      <th>0</th>\n",
       "      <td>10</td>\n",
       "      <td>8.04</td>\n",
       "    </tr>\n",
       "    <tr>\n",
       "      <th>1</th>\n",
       "      <td>8</td>\n",
       "      <td>6.95</td>\n",
       "    </tr>\n",
       "    <tr>\n",
       "      <th>2</th>\n",
       "      <td>13</td>\n",
       "      <td>7.58</td>\n",
       "    </tr>\n",
       "    <tr>\n",
       "      <th>3</th>\n",
       "      <td>9</td>\n",
       "      <td>8.81</td>\n",
       "    </tr>\n",
       "    <tr>\n",
       "      <th>4</th>\n",
       "      <td>11</td>\n",
       "      <td>8.33</td>\n",
       "    </tr>\n",
       "  </tbody>\n",
       "</table>\n",
       "</div>"
      ],
      "text/plain": [
       "    x     y\n",
       "0  10  8.04\n",
       "1   8  6.95\n",
       "2  13  7.58\n",
       "3   9  8.81\n",
       "4  11  8.33"
      ]
     },
     "execution_count": 6,
     "metadata": {},
     "output_type": "execute_result"
    }
   ],
   "source": [
    "a = df[df['Dataset'] == 'A'].drop('Dataset', axis=1)\n",
    "b = df[df['Dataset'] == 'B'].drop('Dataset', axis=1)\n",
    "c = df[df['Dataset'] == 'C'].drop('Dataset', axis=1)\n",
    "d = df[df['Dataset'] == 'D'].drop('Dataset', axis=1)\n",
    "\n",
    "a.head()"
   ]
  },
  {
   "cell_type": "code",
   "execution_count": 7,
   "id": "54b2650a-88b6-4775-b5e9-7e66df78a4ed",
   "metadata": {},
   "outputs": [
    {
     "data": {
      "image/png": "[encoded data removed]",
      "text/plain": [
       "<Figure size 1000x800 with 4 Axes>"
      ]
     },
     "metadata": {},
     "output_type": "display_data"
    }
   ],
   "source": [
    "# Define the datasets (a, b, c, d)\n",
    "datasets = {'Dataset A': a, 'Dataset B': b, 'Dataset C': c, 'Dataset D': d}\n",
    "\n",
    "# Create a 2x2 grid for subplots\n",
    "fig, axes = plt.subplots(2, 2, figsize=(10, 8))\n",
    "\n",
    "# Iterate through datasets and corresponding axes\n",
    "for ax, (title, data) in zip(axes.ravel(), datasets.items()): # Loop over each axis and dataset (title + data)\n",
    "    ax.scatter(data['x'],                                     # Plot 'x' values on the x-axis\n",
    "               data['y'],                                     # Plot 'y' values on the y-axis\n",
    "               color='blue',                                  # Fill points with blue color\n",
    "               edgecolor='black',                             # Outline points with black edges\n",
    "               label='Data Points',                           # Label for legend (not shown unless legend is added)\n",
    "               s=50)                                          # Marker size set to 50\n",
    "    ax.set_title(title, fontsize=14)                          # Set subplot title with font size 14\n",
    "    ax.set_xlabel('x', fontsize=12)                           # Label x-axis as 'x' with font size 12\n",
    "    ax.set_ylabel('y', fontsize=12)                           # Label y-axis as 'y' with font size 12\n",
    "    ax.set_ylim(2,14)                                         # Set limits for y-axis\n",
    "    ax.set_xlim(2.5,20)                                       # Set limits for x-axis\n",
    "    ax.grid(visible=True, linestyle='--', alpha=0.7)          # Add dashed grid with transparency for readability\n",
    "    #ax.legend(fontsize=10)                                   # Add legend\n",
    "\n",
    "    # Add text with mean and std.dev in bottom-right corner\n",
    "    ax.text(16.3, 3.2,\n",
    "            r\"$\\mu = 7.5$\" \"\\n\" \n",
    "            r\"$\\sigma = 2.03$\" \"\\n\" \n",
    "            r\"$\\rho = 0.82$\",\n",
    "            fontsize=10, ha='left', va='bottom')              # Align text to left and bottom\n",
    "\n",
    "\n",
    "plt.tight_layout()                                            # Adjust layout to prevent overlapping\n",
    "plt.savefig('images/chp1_anscombe.png', dpi=300);             # Save this image\n",
    "plt.show();                                                   # Show the plot"
   ]
  },
  {
   "cell_type": "markdown",
   "id": "85814bb3-82a6-4d1d-97a6-2542ebeb9c09",
   "metadata": {},
   "source": [
    "    Four different datasets—with identical summary statistics—can exhibit dramatically different patterns when graphed. It’s a powerful demonstration of why graphical analysis is essential in understanding data rather than relying solely on numerical summaries."
   ]
  },
  {
   "cell_type": "markdown",
   "id": "4ffe70c2-de82-4495-8c77-c2208d16b2ca",
   "metadata": {},
   "source": [
    "# Boxplot"
   ]
  },
  {
   "cell_type": "code",
   "execution_count": 8,
   "id": "3ee2152d-6151-42a3-9eb1-10282fd8b6f5",
   "metadata": {},
   "outputs": [
    {
     "data": {
      "text/html": [
       "<div>\n",
       "<style scoped>\n",
       "    .dataframe tbody tr th:only-of-type {\n",
       "        vertical-align: middle;\n",
       "    }\n",
       "\n",
       "    .dataframe tbody tr th {\n",
       "        vertical-align: top;\n",
       "    }\n",
       "\n",
       "    .dataframe thead th {\n",
       "        text-align: right;\n",
       "    }\n",
       "</style>\n",
       "<table border=\"1\" class=\"dataframe\">\n",
       "  <thead>\n",
       "    <tr style=\"text-align: right;\">\n",
       "      <th></th>\n",
       "      <th>total_bill</th>\n",
       "      <th>tip</th>\n",
       "      <th>sex</th>\n",
       "      <th>smoker</th>\n",
       "      <th>day</th>\n",
       "      <th>time</th>\n",
       "      <th>size</th>\n",
       "    </tr>\n",
       "  </thead>\n",
       "  <tbody>\n",
       "    <tr>\n",
       "      <th>0</th>\n",
       "      <td>16.99</td>\n",
       "      <td>1.01</td>\n",
       "      <td>Female</td>\n",
       "      <td>No</td>\n",
       "      <td>Sun</td>\n",
       "      <td>Dinner</td>\n",
       "      <td>2</td>\n",
       "    </tr>\n",
       "    <tr>\n",
       "      <th>1</th>\n",
       "      <td>10.34</td>\n",
       "      <td>1.66</td>\n",
       "      <td>Male</td>\n",
       "      <td>No</td>\n",
       "      <td>Sun</td>\n",
       "      <td>Dinner</td>\n",
       "      <td>3</td>\n",
       "    </tr>\n",
       "    <tr>\n",
       "      <th>2</th>\n",
       "      <td>21.01</td>\n",
       "      <td>3.50</td>\n",
       "      <td>Male</td>\n",
       "      <td>No</td>\n",
       "      <td>Sun</td>\n",
       "      <td>Dinner</td>\n",
       "      <td>3</td>\n",
       "    </tr>\n",
       "    <tr>\n",
       "      <th>3</th>\n",
       "      <td>23.68</td>\n",
       "      <td>3.31</td>\n",
       "      <td>Male</td>\n",
       "      <td>No</td>\n",
       "      <td>Sun</td>\n",
       "      <td>Dinner</td>\n",
       "      <td>2</td>\n",
       "    </tr>\n",
       "    <tr>\n",
       "      <th>4</th>\n",
       "      <td>24.59</td>\n",
       "      <td>3.61</td>\n",
       "      <td>Female</td>\n",
       "      <td>No</td>\n",
       "      <td>Sun</td>\n",
       "      <td>Dinner</td>\n",
       "      <td>4</td>\n",
       "    </tr>\n",
       "  </tbody>\n",
       "</table>\n",
       "</div>"
      ],
      "text/plain": [
       "   total_bill   tip     sex smoker  day    time  size\n",
       "0       16.99  1.01  Female     No  Sun  Dinner     2\n",
       "1       10.34  1.66    Male     No  Sun  Dinner     3\n",
       "2       21.01  3.50    Male     No  Sun  Dinner     3\n",
       "3       23.68  3.31    Male     No  Sun  Dinner     2\n",
       "4       24.59  3.61  Female     No  Sun  Dinner     4"
      ]
     },
     "execution_count": 8,
     "metadata": {},
     "output_type": "execute_result"
    }
   ],
   "source": [
    "tips = sns.load_dataset(\"tips\")\n",
    "tips.head()"
   ]
  },
  {
   "cell_type": "code",
   "execution_count": 9,
   "id": "9a8c9061-dc87-47a6-9982-39d0899443ed",
   "metadata": {},
   "outputs": [
    {
     "data": {
      "image/png": "[encoded data removed]",
      "text/plain": [
       "<Figure size 800x600 with 1 Axes>"
      ]
     },
     "metadata": {},
     "output_type": "display_data"
    }
   ],
   "source": [
    "plt.figure(figsize=(8, 6))  # Set the figure size\n",
    "\n",
    "# Create a boxplot to visualize the distribution of total bills across days of the week\n",
    "ax = sns.boxplot(\n",
    "    x=\"day\",                # Set the x-axis to the 'day' column, representing days of the week\n",
    "    y=\"total_bill\",         # Set the y-axis to the 'total_bill' column, representing the total bill amounts\n",
    "    data=tips,              # Specify the dataset to use, which is the 'tips' DataFrame\n",
    "    hue=\"day\",              # Use the 'day' variable for coloring the boxplots\n",
    "    palette=\"Set2\"          # Specify a colorful palette\n",
    ")\n",
    "\n",
    "# Add horizontal grid lines for better readability\n",
    "plt.grid(visible=True, axis=\"y\", linestyle=\"--\", linewidth=0.5, color=\"grey\")  \n",
    "\n",
    "plt.savefig('images/chp1_boxplot.png', dpi=300);  # Save this image\n",
    "plt.show()                                        # Display the boxplot"
   ]
  },
  {
   "cell_type": "markdown",
   "id": "eb9fb186-c41d-4ed2-bdea-4637f3340025",
   "metadata": {},
   "source": [
    "# Histogram"
   ]
  },
  {
   "cell_type": "code",
   "execution_count": 10,
   "id": "8c227b9b-b779-4d11-ad2e-f991d08982a4",
   "metadata": {},
   "outputs": [
    {
     "data": {
      "image/png": "[encoded data removed]",
      "text/plain": [
       "<Figure size 800x600 with 1 Axes>"
      ]
     },
     "metadata": {},
     "output_type": "display_data"
    }
   ],
   "source": [
    "# Create bimodal data\n",
    "data_left = np.random.normal(loc=-2, scale=1, size=1500)  # Larger left mode\n",
    "data_right = np.random.normal(loc=2, scale=1, size=700)   # Smaller right mode\n",
    "data3 = np.concatenate([data_left, data_right])           # Combine both\n",
    "\n",
    "plt.figure(figsize=(8, 6))         # Set the figure size\n",
    "\n",
    "# Plot histogram with KDE line\n",
    "sns.histplot(data3,                # Data\n",
    "             bins=40,              # Number of bins\n",
    "             kde=True,             # Add KDE line\n",
    "             color='skyblue',      # Histogram color\n",
    "             edgecolor='black')    # Bin edges\n",
    "\n",
    "# Add labels and title\n",
    "plt.xlabel('Value')\n",
    "plt.ylabel('Frequency')\n",
    "plt.title('Histogram with KDE')\n",
    "\n",
    "plt.grid(True, linestyle='--', alpha=0.6)           # Show grid\n",
    "plt.savefig('images/chp1_histogram.png', dpi=300);  # Save this image\n",
    "plt.show()                                          # Display the plot"
   ]
  },
  {
   "cell_type": "markdown",
   "id": "a54a8f82-0aea-4f03-93ef-e5155634e63e",
   "metadata": {},
   "source": [
    "### Model to create a Q-Q plot"
   ]
  },
  {
   "cell_type": "code",
   "execution_count": 11,
   "id": "7c417c40-bac8-4132-b917-64f3eed375c0",
   "metadata": {},
   "outputs": [
    {
     "data": {
      "image/png": "[encoded data removed]",
      "text/plain": [
       "<Figure size 640x480 with 1 Axes>"
      ]
     },
     "metadata": {},
     "output_type": "display_data"
    }
   ],
   "source": [
    "# Generate random data from a normal distribution\n",
    "np.random.seed(42)                                           # Set random seed for reproducibility\n",
    "data_normal = np.random.normal(loc=0, scale=1, size=1000)    # Normal distribution with Mean=0, Std=1, 1000 samples\n",
    "\n",
    "# Create Q-Q plot comparing data with a normal distribution\n",
    "stats.probplot(data_normal, dist=\"norm\", plot=plt)           # Compare with normal quantiles\n",
    "plt.title(\"Q-Q Plot - Normal Data\")                          # Add title\n",
    "plt.grid(True, linestyle='--', alpha=0.7)                    # Add grid with dashed lines and transparency\n",
    "plt.savefig('images/chp1_qqplot_normal.png', dpi=300)        # Save this image\n",
    "plt.show()                                                   # Display the plot"
   ]
  },
  {
   "cell_type": "code",
   "execution_count": 12,
   "id": "7e962807-bea2-485b-95a3-9258a772647e",
   "metadata": {},
   "outputs": [
    {
     "data": {
      "image/png": "[encoded data removed]",
      "text/plain": [
       "<Figure size 640x480 with 1 Axes>"
      ]
     },
     "metadata": {},
     "output_type": "display_data"
    }
   ],
   "source": [
    "# Generate random data from a normal distribution\n",
    "np.random.seed(42)                                           # Set random seed for reproducibility\n",
    "data_expon = np.random.exponential(scale=1.0, size=1000)     # Exponential distribution with scale=1.0, 1000 samples\n",
    "\n",
    "# Create Q-Q plot comparing data with a normal distribution\n",
    "stats.probplot(data_expon, dist=\"norm\", plot=plt)            # Compare with normal quantiles\n",
    "plt.title(\"Q-Q Plot - Exponential Data\")                     # Add title\n",
    "plt.grid(True, linestyle='--', alpha=0.7)                    # Add grid with dashed lines and transparency\n",
    "plt.savefig('images/chp1_qqplot_expon.png', dpi=300)         # Save this image\n",
    "plt.show()                                                   # Display the plot"
   ]
  },
  {
   "cell_type": "markdown",
   "id": "8861da5c-882d-4b71-a796-f39e191134da",
   "metadata": {},
   "source": [
    "### Comparison of Normal and Non-Normal Distributions"
   ]
  },
  {
   "cell_type": "code",
   "execution_count": 13,
   "id": "beb06536-b8ec-4b23-a7ea-66035b42ac75",
   "metadata": {},
   "outputs": [
    {
     "data": {
      "image/png": "[encoded data removed]",
      "text/plain": [
       "<Figure size 1200x600 with 2 Axes>"
      ]
     },
     "metadata": {},
     "output_type": "display_data"
    }
   ],
   "source": [
    "# Generate random data\n",
    "np.random.seed(42)                                           # Set random seed for reproducibility\n",
    "data_normal = np.random.normal(loc=0, scale=1, size=1000)    # Normal distribution with Mean=0, Std=1, 1000 samples\n",
    "data_expon = np.random.exponential(scale=1.0, size=1000)     # Exponential distribution with scale=1.0, 1000 samples\n",
    "\n",
    "# Create subplots with 1 row and 2 columns\n",
    "fig, axes = plt.subplots(1, 2, figsize=(12, 6))              # Create a figure with 2 side-by-side plots\n",
    "\n",
    "# Q-Q plot for normal data\n",
    "stats.probplot(data_normal, dist=\"norm\", plot=axes[0])       # Compare with normal quantiles\n",
    "axes[0].set_title(\"Q-Q Plot - Normal Data\")                  # Set title for left plot\n",
    "axes[0].grid(True, linestyle='--', alpha=0.7)                # Add grid with dashed lines\n",
    "\n",
    "# Q-Q plot for exponential data\n",
    "stats.probplot(data_expon, dist=\"norm\", plot=axes[1])        # Compare with normal quantiles\n",
    "axes[1].set_title(\"Q-Q Plot - Non-Normal Data\")              # Set title for right plot\n",
    "axes[1].grid(True, linestyle='--', alpha=0.7)                # Add grid with dashed lines\n",
    "\n",
    "# Adjust layout and save figure\n",
    "plt.tight_layout()                                           # Adjust layout to prevent overlap\n",
    "plt.savefig('images/chp1_qqplot_side_by_side.png', dpi=300)  # Save combined image\n",
    "plt.show()                                                   # Display the figure"
   ]
  },
  {
   "cell_type": "markdown",
   "id": "03f4100b-8aca-4b76-8719-f66790911bf4",
   "metadata": {},
   "source": [
    "# Checking Normality"
   ]
  },
  {
   "cell_type": "markdown",
   "id": "b4ffff32-7ba7-4068-a696-a53077136d45",
   "metadata": {},
   "source": [
    "#### Practical tip:\n",
    "\n",
    "$n < 50 \\rightarrow$ **Shapiro-Wilk**: higher power for small samples.\n",
    "\n",
    "$50 \\le n \\le 5{,}000 \\rightarrow$ **D'Agostino $K^2$** : omnibus test (skewness + kurtosis).\n",
    "\n",
    "$n \\gg 5{,}000 \\rightarrow$ **D'Agostino $K^2$** or **Anderson-Darling**: p-values tend to flag trivial deviations; focus on practical effect.\n",
    "\n",
    "Tails/outliers are critical (any $n$) $\\rightarrow$ **Anderson-Darling**: gives more weight to the extremes."
   ]
  },
  {
   "cell_type": "markdown",
   "id": "99423b76-650e-43fd-a0fa-b995a029b923",
   "metadata": {},
   "source": [
    "# Shapiro-Wilk"
   ]
  },
  {
   "cell_type": "code",
   "execution_count": 14,
   "id": "93021547-bd69-4988-ba65-f86f2883966b",
   "metadata": {},
   "outputs": [
    {
     "name": "stdout",
     "output_type": "stream",
     "text": [
      "Shapiro-Wilk Test for dnormal:\n",
      "stat = 0.9801, p-value= 0.6914\n",
      "Can not Reject the null hypothesis. The data seems to be normally distributed.\n",
      "\n",
      "Shapiro-Wilk Test for sample1:\n",
      "stat = 0.9418, p-value= 0.0397\n",
      "Reject the null hypothesis. The data does NOT seem to be normally distributed.\n"
     ]
    }
   ],
   "source": [
    "# Generate Data\n",
    "np.random.seed(2025)                                   # Set random seed\n",
    "dnormal = np.random.normal(loc=0, scale=1, size=40)    # Normal distribution with Mean=0, Std=1, 40 samples\n",
    "sample1 = np.random.chisquare(8, 40)                   # Chi-squared with 8 DOF, size 40\n",
    "\n",
    "# Shapiro_test Function\n",
    "def shapiro_test(data, alpha=0.05):\n",
    "    stat, p = shapiro(data)\n",
    "    print('stat = {0:.4f}, p-value= {1:.4f}'.format(stat, p))\n",
    "    if p > alpha:\n",
    "        print(\"Can not Reject the null hypothesis. The data seems to be normally distributed.\")\n",
    "    else:\n",
    "        print(\"Reject the null hypothesis. The data does NOT seem to be normally distributed.\")\n",
    "\n",
    "\n",
    "print(\"Shapiro-Wilk Test for dnormal:\")\n",
    "shapiro_test(dnormal)\n",
    "print()\n",
    "print(\"Shapiro-Wilk Test for sample1:\")\n",
    "shapiro_test(sample1)"
   ]
  },
  {
   "cell_type": "markdown",
   "id": "d886d928-bb0b-432d-8f00-3824d065f2da",
   "metadata": {},
   "source": [
    "# D'Agostino K2"
   ]
  },
  {
   "cell_type": "code",
   "execution_count": 15,
   "id": "425d4511-604e-4848-a4bf-4b560bab51ce",
   "metadata": {},
   "outputs": [
    {
     "name": "stdout",
     "output_type": "stream",
     "text": [
      "D'Agostino Test for dnormal:\n",
      "stat = 3.7559, p-value= 0.1529\n",
      "Can not Reject the null hypothesis. The data seems to be normally distributed.\n",
      "\n",
      "D'Agostino Test for sample2:\n",
      "stat = 72.5439, p-value= 0.0000\n",
      "Reject the null hypothesis. The data does NOT seem to be normally distributed.\n"
     ]
    }
   ],
   "source": [
    "# Generate Data\n",
    "np.random.seed(2025)                                   # Set random seed\n",
    "dnormal = np.random.normal(loc=0, scale=1, size=400)   # Normal distribution with Mean=0, Std=1, 400 samples\n",
    "sample2 = np.random.chisquare(8, 400)                  # Chi-squared with 8 DOF, size 400\n",
    "\n",
    "# D’Agostino_test Function\n",
    "def dagostino_test(data, alpha=0.05):\n",
    "    k2, p = normaltest(data)\n",
    "    print('stat = {0:.4f}, p-value= {1:.4f}'.format(k2, p))\n",
    "    if p > alpha:\n",
    "        print(\"Can not Reject the null hypothesis. The data seems to be normally distributed.\")\n",
    "    else:\n",
    "        print(\"Reject the null hypothesis. The data does NOT seem to be normally distributed.\")\n",
    "\n",
    "\n",
    "print(\"D'Agostino Test for dnormal:\")\n",
    "dagostino_test(dnormal)\n",
    "print()\n",
    "print(\"D'Agostino Test for sample2:\")\n",
    "dagostino_test(sample2)"
   ]
  },
  {
   "cell_type": "markdown",
   "id": "2041fa65-511b-4e83-90bb-69102d9e6137",
   "metadata": {},
   "source": [
    "# Anderson-Darling"
   ]
  },
  {
   "cell_type": "code",
   "execution_count": 16,
   "id": "a025751a-4ff5-42af-bae7-1a26fb696665",
   "metadata": {},
   "outputs": [
    {
     "name": "stdout",
     "output_type": "stream",
     "text": [
      "Anderson-Darling Test for dnormal:\n",
      "stat = 0.6691, p-value= 0.7157\n",
      "Can not Reject the null hypothesis. The data seems to be normally distributed.\n",
      "\n",
      "Anderson-Darling Test for sample3:\n",
      "stat = 5725.7772, p-value= 0.0000\n",
      "Reject the null hypothesis. The data does NOT seem to be normally distributed.\n"
     ]
    }
   ],
   "source": [
    "# Generate Data\n",
    "np . random . seed (2025)                                 # Set random seed\n",
    "dnormal = np.random.normal(loc=0, scale=1, size=40000)    # Normal distribution with Mean=0, Std=1, 40000 samples\n",
    "sample3 = np . random . chisquare (8 , 40000)             # Chi - squared with 8 DOF , size 40000\n",
    "\n",
    "# Anderson_test Function\n",
    "def anderson_test(data, alpha=0.05):\n",
    "    stat, p = anderson(data)\n",
    "    print('stat = {0:.4f}, p-value= {1:.4f}'.format(stat, p))\n",
    "    if p > alpha:\n",
    "        print(\"Can not Reject the null hypothesis. The data seems to be normally distributed.\")\n",
    "    else:\n",
    "        print(\"Reject the null hypothesis. The data does NOT seem to be normally distributed.\")\n",
    "        \n",
    "\n",
    "print(\"Anderson-Darling Test for dnormal:\")\n",
    "dagostino_test (dnormal)\n",
    "print()\n",
    "print(\"Anderson-Darling Test for sample3:\")\n",
    "dagostino_test (sample3)"
   ]
  },
  {
   "cell_type": "markdown",
   "id": "1d1ecc59-e185-437c-bf31-fb5bca9b60ca",
   "metadata": {},
   "source": [
    "# Correlation / Association\n",
    "\n",
    "1. Both Variables are Continuous\n",
    "   \n",
    "        • Normal distribution: Use Pearson’s correlation (r).\n",
    "        • Non-Normal Distribution or Non-Linear:\n",
    "            – Monotonic relationships, larger samples: Use Spearman’s rho (ρ).\n",
    "            – Small samples, many ties or outliers: Use Kendall’s tau (τ).\n",
    "   \n",
    "2. One Variable is Categorical\n",
    "\n",
    "        • Continous Variable Normal: Use the Point–Biserial correlation (rpb).\n",
    "        • Continous Variable Non-normal:\n",
    "            – For group comparison: Use the Mann-Whitney U test (U).\n",
    "            – If correlation coeficient is needed: Use Spearman’s rho (ρ).\n",
    "3. Both Variables are Categorical\n",
    "\n",
    "        • Large Sample *1: Use Chi-square test for independence (χ2).\n",
    "        • Small Sample *2: Use Fisher’s exact test.\n",
    "        • Ordinal Variables: Goodman-Kruskal’s gamma or Somers’ D for ordered categories.\n",
    "\n",
    "\n",
    "*1 – Expected frequencies ≥5 in 80% of cells.\\\n",
    "*2 – Expected frequencies <5 or n < 20, especially for 2x2 tables."
   ]
  },
  {
   "cell_type": "markdown",
   "id": "0a80d6c5-7f0e-462f-92d6-068ce0dfb706",
   "metadata": {},
   "source": [
    "# Pearson's Correlation (r)"
   ]
  },
  {
   "cell_type": "code",
   "execution_count": 17,
   "id": "74c8c3b6-bbb4-4ca1-ab4c-f7952ea55d8c",
   "metadata": {},
   "outputs": [
    {
     "name": "stdout",
     "output_type": "stream",
     "text": [
      "Pearson Correlation: 0.872\n"
     ]
    }
   ],
   "source": [
    "# Simulated data\n",
    "np.random.seed(42)                                         # Seed\n",
    "x = np.random.normal(loc=5, scale=2, size=100)             # Source variable\n",
    "y = 10 + 3*x + np.random.normal(loc=0, scale=3, size=100)  # Dependent variable\n",
    "\n",
    "# Pearson Correlation\n",
    "corr = np.corrcoef(x, y)[0,1]\n",
    "print(\"Pearson Correlation:\", corr.round(3))"
   ]
  },
  {
   "cell_type": "markdown",
   "id": "32716c71-802b-4443-a5c6-8fc36a3c3886",
   "metadata": {},
   "source": [
    "# Spearman’s rho (ρ)"
   ]
  },
  {
   "cell_type": "code",
   "execution_count": 18,
   "id": "3a1556cd-5098-490e-b47d-71a9bbe1758b",
   "metadata": {},
   "outputs": [
    {
     "name": "stdout",
     "output_type": "stream",
     "text": [
      "Spearman rho = 0.929, p-value = 0.000\n",
      "Reject H0: evidence of a monotonic association.\n"
     ]
    }
   ],
   "source": [
    "np.random.seed(42)                                      # Seed\n",
    "n = 200                                                 # Sample size\n",
    "x = np.random.chisquare(8, n)                           # Predictor (continuous)\n",
    "y = np.log1p(x) + np.random.normal(0, 0.15, size=n)     # Monotonic non-linear relation + noise\n",
    "\n",
    "def spearman_test(x, y, alpha=0.05, nan_policy=\"omit\", alternative=\"two-sided\"):\n",
    "    rho, p = spearmanr(x, y, nan_policy=nan_policy, alternative=alternative)      # Spearman's rho and p-value\n",
    "    print(f\"Spearman rho = {rho:.3f}, p-value = {p:.3f}\")                         # Report test statistics\n",
    "    if p > alpha:                                                                 # Decision rule\n",
    "        print(\"Fail to reject H0: no significant monotonic association detected.\")\n",
    "    else:\n",
    "        print(\"Reject H0: evidence of a monotonic association.\")\n",
    "\n",
    "    \n",
    "spearman_test(x, y)  "
   ]
  },
  {
   "cell_type": "markdown",
   "id": "94349a4c-c961-412d-bd49-869f1140265a",
   "metadata": {},
   "source": [
    "# Kendall’s tau (τ )"
   ]
  },
  {
   "cell_type": "code",
   "execution_count": 19,
   "id": "eb61b460-4cd0-4ce5-9885-5df8d0369759",
   "metadata": {},
   "outputs": [
    {
     "name": "stdout",
     "output_type": "stream",
     "text": [
      "Kendall tau = 0.773, p-value = 0.000\n",
      "Reject H0: evidence of a monotonic association.\n"
     ]
    }
   ],
   "source": [
    "np.random.seed(42)                                      # Seed\n",
    "n = 200                                                 # Sample size\n",
    "x = np.random.chisquare(8, n)                           # Predictor (continuous)\n",
    "y = np.log1p(x) + np.random.normal(0, 0.15, size=n)     # Monotonic non-linear relation + noise\n",
    "\n",
    "def kendall_test(x, y, alpha=0.05, nan_policy=\"omit\", alternative=\"two-sided\", method=\"auto\"):\n",
    "    tau, p = kendalltau(x, y, nan_policy=nan_policy, alternative=alternative, method=method)    # tau and p-value\n",
    "    print(f\"Kendall tau = {tau:.3f}, p-value = {p:.3f}\")                                        # Report\n",
    "    if p > alpha:                                                                               # Decision rule\n",
    "        print(\"Fail to reject H0: no significant monotonic association detected.\")\n",
    "    else:\n",
    "        print(\"Reject H0: evidence of a monotonic association.\")\n",
    "\n",
    "\n",
    "kendall_test(x, y)  "
   ]
  },
  {
   "cell_type": "markdown",
   "id": "8c73f269-a0de-4513-8dea-cfa63987c905",
   "metadata": {},
   "source": [
    "# Point–Biserial correlation (rpb)"
   ]
  },
  {
   "cell_type": "code",
   "execution_count": 20,
   "id": "6365f68c-42c3-4b79-8f4f-2e88a4fe1655",
   "metadata": {},
   "outputs": [
    {
     "name": "stdout",
     "output_type": "stream",
     "text": [
      "Point–Biserial test (smoker vs. resting heart):\n",
      "rpb = 0.3541, p-value = 0.000\n",
      "Reject H0: evidence of association.\n"
     ]
    }
   ],
   "source": [
    "# Generate data\n",
    "np.random.seed(2025)                              # Reproducibility\n",
    "n_nonsmoker, n_smoker = 220, 180                  # Sample sizes\n",
    "\n",
    "smoker = np.r_[np.zeros(n_nonsmoker, dtype=int),  # 0 = non-smoker\n",
    "               np.ones(n_smoker, dtype=int)]      # 1 = smoker\n",
    "\n",
    "resting_hr = np.r_[np.random.normal(loc=68, scale=8, size=n_nonsmoker),  # Non-smokers resting heart rate\n",
    "                   np.random.normal(loc=74, scale=8, size=n_smoker)]     # Smokers resting heart rate\n",
    "\n",
    "# Point–Biserial test\n",
    "def point_biserial_test(cat, y, alpha=0.05):       \n",
    "    r_pb, p = pointbiserialr(cat, y)                                     # Compute correlation and p-value\n",
    "    print(f\"rpb = {r_pb:.4f}, p-value = {p:.3f}\")                        # Report\n",
    "    if p > alpha:                                                        # Decision rule\n",
    "        print(\"Fail to reject H0: no significant association.\")\n",
    "    else:\n",
    "        print(\"Reject H0: evidence of association.\")\n",
    "\n",
    "\n",
    "print(\"Point–Biserial test (smoker vs. resting heart):\")\n",
    "point_biserial_test(smoker, resting_hr)"
   ]
  },
  {
   "cell_type": "markdown",
   "id": "71fcee41-97a3-4bb7-afbc-34ac41cf115d",
   "metadata": {},
   "source": [
    "# Spearman's $\\rho$ (one categorical variable)"
   ]
  },
  {
   "cell_type": "code",
   "execution_count": 21,
   "id": "fac5dec1-1dfd-43fd-bb32-9f31161ffb61",
   "metadata": {},
   "outputs": [
    {
     "name": "stdout",
     "output_type": "stream",
     "text": [
      "Spearman test: DEFECT (0/1) vs CYCLE TIME (min)\n",
      "Spearman rho = 0.2666, p-value = 0.000\n",
      "Reject H0: evidence of a monotonic association (longer cycle times, more defects).\n"
     ]
    }
   ],
   "source": [
    "#Generate data: production line\n",
    "np.random.seed(2025)                           # Reproducibility\n",
    "n_ok, n_defect = 1200, 300                     # Unbalanced classes\n",
    "\n",
    "defect = np.r_[np.zeros(n_ok, dtype=int),      # 0 = no defect\n",
    "               np.ones(n_defect, dtype=int)]   # 1 = defect\n",
    "\n",
    "cycle_time = np.r_[np.random.lognormal(mean=2.45, sigma=0.40, size=n_ok),     # Non-defective, faster\n",
    "                   np.random.lognormal(mean=2.75, sigma=0.45, size=n_defect)] # Defective, take longer (rework, stoppages)\n",
    "\n",
    "\n",
    "# Spearman test (rank-based, robust to non-normality)\n",
    "def spearman_binary_test(cat, y, alpha=0.05, alternative=\"two-sided\"):\n",
    "    rho, p = spearmanr(cat, y, nan_policy=\"omit\", alternative=alternative)    # Spearman's rho and p-value\n",
    "    print(f\"Spearman rho = {rho:.4f}, p-value = {p:.3f}\")\n",
    "    if p > alpha:\n",
    "        print(\"Fail to reject H0: no significant monotonic association.\")\n",
    "    else:\n",
    "        print(\"Reject H0: evidence of a monotonic association (longer cycle times, more defects).\")\n",
    "\n",
    "\n",
    "print(\"Spearman test: DEFECT (0/1) vs CYCLE TIME (min)\")\n",
    "spearman_binary_test(defect, cycle_time)"
   ]
  },
  {
   "cell_type": "markdown",
   "id": "59330bb8-e7ed-4903-b920-3a5d29c982e0",
   "metadata": {},
   "source": [
    "# $\\chi^2$ Test of Independence"
   ]
  },
  {
   "cell_type": "code",
   "execution_count": 22,
   "id": "e1c2d2f0-7879-4b54-a3d6-0d5c25e3187c",
   "metadata": {},
   "outputs": [
    {
     "name": "stdout",
     "output_type": "stream",
     "text": [
      "Contingency Table:\n",
      " Product       A   B   C\n",
      "Group                  \n",
      "Cooperative  16   0   8\n",
      "High G       16   8   0\n",
      "Local         0  12  20 \n",
      "\n",
      "Expected Frequencies:\n",
      " Product         A    B     C\n",
      "Group                       \n",
      "Cooperative   9.6  6.0   8.4\n",
      "High G        9.6  6.0   8.4\n",
      "Local        12.8  8.0  11.2\n",
      "\n",
      "-- Chi-Square Test of Independence --\n",
      "        Chi-Square: 45.33\n",
      "Degrees of Freedom: 4\n",
      "           p-value: 0.0 \n",
      "\n",
      "Reject H0: evidence of association between Custumer type and Product.\n"
     ]
    }
   ],
   "source": [
    "# Simulated dataset\n",
    "data = pd.DataFrame({\n",
    "    'Group': [\n",
    "        'High G','High G','High G','Cooperative','Cooperative','Cooperative', 'Local','Local','Local', 'Local',\n",
    "        'Cooperative','High G','Local','Cooperative','High G','Local','Cooperative','High G','Local','Local']*4,\n",
    "    'Product': ['A','B','A','A','A','C','C','C','B','B','A','A','C','C','B','B','A','A','C','C']*4\n",
    "})\n",
    "\n",
    "# Create contingency table\n",
    "contingency = pd.crosstab(data['Group'], data['Product'])\n",
    "print(\"Contingency Table:\\n\", contingency, \"\\n\")\n",
    "\n",
    "# Perform Chi-square test\n",
    "chi2, p, dof, expected = chi2_contingency(contingency)\n",
    "\n",
    "\n",
    "\n",
    "# Show expected frequencies\n",
    "expected_df = pd.DataFrame(expected, \n",
    "                           index=contingency.index, \n",
    "                           columns=contingency.columns)\n",
    "print(\"Expected Frequencies:\\n\", expected_df.round(2))\n",
    "print()\n",
    "\n",
    "print(\"-- Chi-Square Test of Independence --\")\n",
    "print(\"        Chi-Square:\", chi2.round(2))\n",
    "print(\"Degrees of Freedom:\", dof)\n",
    "print(\"           p-value:\", p.round(3), \"\\n\")\n",
    "\n",
    "# Decision\n",
    "alpha = 0.05\n",
    "if p > alpha:\n",
    "    print(\"Fail to reject H0: no significant association between Custumer type and Product.\")\n",
    "else:\n",
    "    print(\"Reject H0: evidence of association between Custumer type and Product.\")"
   ]
  },
  {
   "cell_type": "markdown",
   "id": "f816aea6-a3c5-40bb-8e01-26dec7e5dfd9",
   "metadata": {},
   "source": [
    "# Fisher’s Exact Test"
   ]
  },
  {
   "cell_type": "code",
   "execution_count": 23,
   "id": "d7aeac0a-3525-4ef3-ad7b-99647734a178",
   "metadata": {},
   "outputs": [
    {
     "name": "stdout",
     "output_type": "stream",
     "text": [
      "Contingency Table:\n",
      " Purchased  No  Yes\n",
      "Discount          \n",
      "No         15   15\n",
      "Yes         5   25 \n",
      "\n",
      "-- Fisher’s Exact Test --\n",
      "Odds Ratio: 5.0\n",
      "   p-value: 0.0127\n",
      "\n",
      "Reject H0: Evidence of association between discount and purchase.\n"
     ]
    }
   ],
   "source": [
    "# Dataset\n",
    "data = pd.DataFrame({\n",
    "    'Discount': ['Yes']*30 + ['No']*30,                          \n",
    "    'Purchased': ['Yes']*25 + ['No']*5 + ['Yes']*15 + ['No']*15})\n",
    "\n",
    "# Create 2x2 contingency table\n",
    "contingency = pd.crosstab(data['Discount'], data['Purchased'])\n",
    "print(\"Contingency Table:\\n\", contingency, \"\\n\")\n",
    "\n",
    "# Perform Fisher’s Exact Test\n",
    "oddsratio, p_value = fisher_exact(contingency.values)\n",
    "\n",
    "print(\"-- Fisher’s Exact Test --\")\n",
    "print(\"Odds Ratio:\", round(oddsratio, 2))\n",
    "print(\"   p-value:\", round(p_value, 4))\n",
    "print()\n",
    "\n",
    "# Decision\n",
    "alpha = 0.05\n",
    "if p_value > alpha:\n",
    "    print(\"Fail to reject H0: No significant association between discount and purchase.\")\n",
    "else:\n",
    "    print(\"Reject H0: Evidence of association between discount and purchase.\")"
   ]
  },
  {
   "cell_type": "markdown",
   "id": "f0d50481-120b-4ac0-b48c-2c10b1b5ef13",
   "metadata": {},
   "source": [
    "# Comparing Variances\n",
    "\n",
    "**1.\tTwo Groups**\n",
    "\n",
    "    • Use F-test (for normal distributions).\n",
    "\n",
    "    • Use Levene’s test or Brown-Forsythe (for robust comparisons).\n",
    "\n",
    "**2.\tMore than Two Groups**\n",
    "\n",
    "    • Use Bartlett’s test (robust to non-normality).\n",
    "\n",
    "    • Use Levene’s test or Brown-Forsythe (for normal distributions)."
   ]
  },
  {
   "cell_type": "markdown",
   "id": "6ea70c74-204f-4f31-a50f-5559547b7631",
   "metadata": {},
   "source": [
    "# F-test"
   ]
  },
  {
   "cell_type": "code",
   "execution_count": 24,
   "id": "1fa31cfd-2ebf-4b5f-a2c7-085a095a910b",
   "metadata": {},
   "outputs": [
    {
     "name": "stdout",
     "output_type": "stream",
     "text": [
      "== F-test for Equality of Variances ==\n",
      "F statistic: 2.52 (df1=59, df2=54)\n",
      "Two-sided p-value: 0.0008\n",
      "\n",
      "Reject H0: Variances differ between regions.\n"
     ]
    }
   ],
   "source": [
    "# Generate Datasets\n",
    "np.random.seed(42)                                    # Reproducibility\n",
    "n_A, n_B = 60, 55                                     # Sample sizes (days)\n",
    "mu_A, mu_B = 120, 118                                 # Similar means (business as usual)\n",
    "sigma_A, sigma_B = 25, 15                             # Different std devs (suspected variance change)\n",
    "\n",
    "orders_A = np.random.normal(mu_A, sigma_A, n_A)       # Region A daily orders (approx. normal)\n",
    "orders_B = np.random.normal(mu_B, sigma_B, n_B)       # Region B daily orders (approx. normal)\n",
    "\n",
    "# F-test\n",
    "var_A = np.var(orders_A, ddof=1)                      # Sample variance (unbiased)\n",
    "var_B = np.var(orders_B, ddof=1)                      # Sample variance (unbiased)\n",
    "df1, df2 = n_A - 1, n_B - 1                           # Degrees of freedom\n",
    "\n",
    "F = var_A / var_B                                     # F statistic\n",
    "cdf = stats.f.cdf(F, df1, df2)                        # Lower-tail probability\n",
    "p_two = 2 * min(cdf, 1 - cdf)                         # Two-sided p-value\n",
    "\n",
    "print(\"== F-test for Equality of Variances ==\")\n",
    "print(f\"F statistic: {F:.2f} (df1={df1}, df2={df2})\") # Report F and dfs\n",
    "print(f\"Two-sided p-value: {p_two:.4f}\")              # Two-sided p-value\n",
    "print()\n",
    "\n",
    "# Decision Rule\n",
    "alpha = 0.05                                          # Significance level\n",
    "if p_two < alpha:\n",
    "    print(\"Reject H0: Variances differ between regions.\")            # Significant difference\n",
    "else:\n",
    "    print(\"Fail to reject H0: No evidence of variance difference.\")  # Not significant"
   ]
  },
  {
   "cell_type": "markdown",
   "id": "a1009271-dc54-485e-a9e3-f04e3d3abfbe",
   "metadata": {},
   "source": [
    "# Levene's and Brown–Forsythe Tests "
   ]
  },
  {
   "cell_type": "code",
   "execution_count": 25,
   "id": "ccf0810e-e6f9-495a-8f7c-bf35533724e1",
   "metadata": {},
   "outputs": [
    {
     "name": "stdout",
     "output_type": "stream",
     "text": [
      "==== Levene's and Brown–Forsythe Tests ====\n",
      "Levene’s (mean-based): stat = 17.75, p-value = 0.0000\n",
      "Brown–Forsythe (median-based): stat = 15.62, p-value = 0.0001\n",
      "\n",
      "Reject H0 (Levene's): Evidence of variance difference between lines.\n",
      "Reject H0 (Brown–Forsythe): Evidence of variance difference between lines.\n"
     ]
    }
   ],
   "source": [
    "# Generate datasets: two production lines\n",
    "np.random.seed(2025)                                 # Reproducibility\n",
    "n_A, n_B = 60, 60                                    # Sample sizes (days)\n",
    "\n",
    "line_A = np.random.normal(loc=50, scale=5, size=n_A) # Line A: stable cycle times    \n",
    "line_B = np.random.normal(loc=50, scale=7, size=n_B) # Line B: more variability\n",
    "line_B[:5] += 25                                     # Inject extreme outliers (machine stoppages)\n",
    "\n",
    "stat_mean, p_mean = levene(line_A, line_B, center='mean')  # Levene’s test (mean-based)\n",
    "stat_med, p_med = levene(line_A, line_B, center='median')  # Brown–Forsythe test (median-based)\n",
    "\n",
    "print(\"==== Levene's and Brown–Forsythe Tests ====\")\n",
    "print(f\"Levene’s (mean-based): stat = {stat_mean:.2f}, p-value = {p_mean:.4f}\")\n",
    "print(f\"Brown–Forsythe (median-based): stat = {stat_med:.2f}, p-value = {p_med:.4f}\\n\")\n",
    "\n",
    "# Decision rule (alpha = 0.05)\n",
    "alpha = 0.05\n",
    "if p_mean < alpha:\n",
    "    print(\"Reject H0 (Levene's): Evidence of variance difference between lines.\")\n",
    "else:\n",
    "    print(\"Fail to reject H0 (Levene's): No evidence of variance difference.\")\n",
    "\n",
    "if p_med < alpha:\n",
    "    print(\"Reject H0 (Brown–Forsythe): Evidence of variance difference between lines.\")\n",
    "else:\n",
    "    print(\"Fail to reject H0 (Brown–Forsythe): No evidence of variance difference.\")"
   ]
  },
  {
   "cell_type": "markdown",
   "id": "27149f02-11ec-4cc7-8607-c6e383e3764e",
   "metadata": {},
   "source": [
    "# Bartlett's Test"
   ]
  },
  {
   "cell_type": "code",
   "execution_count": 26,
   "id": "1323f09d-2973-4342-8cc4-f1400e85cdff",
   "metadata": {},
   "outputs": [
    {
     "name": "stdout",
     "output_type": "stream",
     "text": [
      "== Bartlett’s Test for Equality of Variances ==\n",
      "Test statistic: 47.80\n",
      "p-value: 0.0000\n",
      "\n",
      "Reject H0: At least one region has a different variance in sales.\n"
     ]
    }
   ],
   "source": [
    "# Generate synthetic sales data for 3 regions (assumed normal)\n",
    "np.random.seed(2025)                                \n",
    "north = np.random.normal(loc=500, scale=20, size=50)   # North region (stable variance)\n",
    "south = np.random.normal(loc=505, scale=20, size=50)   # South region (similar variance)\n",
    "west  = np.random.normal(loc=495, scale=40, size=50)   # West region (higher variance)\n",
    "\n",
    "# Bartlett’s test for equality of variances\n",
    "stat, p = bartlett(north, south, west)\n",
    "\n",
    "print(\"== Bartlett’s Test for Equality of Variances ==\")\n",
    "print(f\"Test statistic: {stat:.2f}\")\n",
    "print(f\"p-value: {p:.4f}\\n\")\n",
    "\n",
    "# Decision rule (alpha = 0.05)\n",
    "alpha = 0.05\n",
    "if p < alpha:\n",
    "    print(\"Reject H0: At least one region has a different variance in sales.\")\n",
    "else:\n",
    "    print(\"Fail to reject H0: No evidence of variance difference between regions.\")"
   ]
  },
  {
   "cell_type": "markdown",
   "id": "95a31069-82b9-45ad-bbe3-8e68472ab759",
   "metadata": {},
   "source": [
    "# Levene's and Brown–Forsythe Tests (More than Two Groups)"
   ]
  },
  {
   "cell_type": "code",
   "execution_count": 27,
   "id": "91ed2974-5215-4fd8-8e66-56fc991950a3",
   "metadata": {},
   "outputs": [
    {
     "name": "stdout",
     "output_type": "stream",
     "text": [
      "== Levene’s Test (center='mean') ==\n",
      "Statistic: 10.894, p-value: 0.0000\n",
      "Reject H0: At least one line differs in variance (mean-based).\n",
      "\n",
      "== Brown–Forsythe (center='median') ==\n",
      "Statistic: 6.095, p-value: 0.0023\n",
      "Reject H0: At least one line differs in variance (median-based).\n",
      "\n",
      "Interpretation: Variance differences are robust (not driven solely by outliers).\n"
     ]
    }
   ],
   "source": [
    "# Simulate factory cycle times in minutes\n",
    "np.random.seed(2025)                                 # Reproducibility\n",
    "n_A, n_B, n_C = 300, 300, 300                        # Sample sizes per production line\n",
    "\n",
    "# Base process: similar typical variability across lines           # Same general spread\n",
    "line_A = np.random.lognormal(mean=2.30, sigma=0.25, size=n_A)      # Line A: baseline\n",
    "line_B = np.random.lognormal(mean=2.30, sigma=0.25, size=n_B)      # Line B: baseline (will add outliers)\n",
    "line_C = np.random.lognormal(mean=2.30, sigma=0.25, size=n_C)      # Line C: baseline\n",
    "\n",
    "# Inject rare stoppages/outliers on Line B                         # Create extreme tail values\n",
    "outliers_B = np.random.lognormal(mean=3.70, sigma=0.30, size=10)   # Large cycle times = breakdowns/rework\n",
    "line_B[:len(outliers_B)] = outliers_B                              # Overwrite first elements with outliers\n",
    "\n",
    "# Optional: assemble a DataFrame for reference                     # Helpful for quick inspection\n",
    "df = pd.DataFrame({\n",
    "    \"cycle_time\": np.r_[line_A, line_B, line_C],                   # Concatenate all lines\n",
    "    \"line\": ([\"A\"] * n_A) + ([\"B\"] * n_B) + ([\"C\"] * n_C)          # Line labels\n",
    "})\n",
    "\n",
    "# -----------------------------\n",
    "# Levene’s test (center = 'mean') → classic Levene                 # More sensitive to non-normality/outliers\n",
    "# -----------------------------\n",
    "stat_mean, p_mean = levene(line_A, line_B, line_C, center='mean')  # Mean-based deviations\n",
    "alpha = 0.05                                                       # Significance level\n",
    "\n",
    "print(\"== Levene’s Test (center='mean') ==\")                       # Header\n",
    "print(f\"Statistic: {stat_mean:.3f}, p-value: {p_mean:.4f}\")        # Report test statistic and p-value\n",
    "if p_mean < alpha:                                                 # Decision rule\n",
    "    print(\"Reject H0: At least one line differs in variance (mean-based).\")     \n",
    "else:\n",
    "    print(\"Fail to reject H0: No evidence of variance difference (mean-based).\")\n",
    "print()                                                                          \n",
    "\n",
    "# -----------------------------\n",
    "# Brown–Forsythe (center = 'median') → robust to outliers          # Uses median-based deviations\n",
    "# -----------------------------\n",
    "stat_med, p_med = levene(line_A, line_B, line_C, center='median')  # Median-based (Brown–Forsythe)\n",
    "print(\"== Brown–Forsythe (center='median') ==\")                    # Header\n",
    "print(f\"Statistic: {stat_med:.3f}, p-value: {p_med:.4f}\")          # Report test statistic and p-value\n",
    "if p_med < alpha:                                                  # Decision rule\n",
    "    print(\"Reject H0: At least one line differs in variance (median-based).\")\n",
    "else:\n",
    "    print(\"Fail to reject H0: No evidence of variance difference (median-based).\")\n",
    "print()\n",
    "\n",
    "# -----------------------------\n",
    "# Practical reading for managers             # Brief operational takeaway\n",
    "# -----------------------------\n",
    "if (p_mean < alpha) and (p_med < alpha):     # Both tests significant\n",
    "    print(\"Interpretation: Variance differences are robust (not driven solely by outliers).\")\n",
    "elif (p_mean < alpha) and (p_med >= alpha):  # Only mean-based significant\n",
    "    print(\"Interpretation: Apparent variance difference may be driven by outliers (median-based test is non-significant).\")\n",
    "else:                                        # Neither significant\n",
    "    print(\"Interpretation: No strong evidence that the lines differ in variability.\")"
   ]
  },
  {
   "cell_type": "markdown",
   "id": "a8dd3369-b277-48c8-9a07-50c150e9549e",
   "metadata": {},
   "source": [
    "# Comparing Means"
   ]
  },
  {
   "cell_type": "markdown",
   "id": "436e7e92-9a3f-44d0-91bd-79d5930f09b6",
   "metadata": {},
   "source": [
    "1. `Two Groups`\n",
    "   \n",
    "• Independent Samples\n",
    "\n",
    "    – Check normality\n",
    "        ∗ Normal: Check Variances\n",
    "            · Equal: T-test (pooled)\n",
    "            · Unequal: Welch’s t-test (preferable if in doubt).\n",
    "        ∗ Non-Normal: Mann-Whitney U test\n",
    "        \n",
    "• Dependent (Paired) Samples\n",
    "\n",
    "    – Check normality of differences\n",
    "        ∗ Normal: Paired T-test\n",
    "        ∗ Non-Normal: Wilcoxon Signed-Rank test\n",
    "\n",
    "2. `More than Two Groups`\n",
    "\n",
    "• Independent Samples\n",
    "\n",
    "    – Check normality\n",
    "        ∗ Normal: Check Variances\n",
    "            · Equal: One-way ANOVA (post-hoc: Tukey)\n",
    "            · Unequal: Welch’s ANOVA (post-hoc: Games-Howell)\n",
    "        ∗ Non-Normal: Kruskal-Wallis test (post-hoc: Dunn’s)\n",
    "\n",
    "• Dependent Samples (Repeated Measures)\n",
    "\n",
    "    – Check normality of differences and sphericity (Mauchly)\n",
    "        ∗ Normal + Sphericity: Repeated Measures ANOVA ((Fix with G-G/H-F if violates; post-hoc: paired T with Bonferroni)\n",
    "        ∗ Non-Normal: Friedman test (post-hoc: Wilcoxon signed-rank with Bonferroni)"
   ]
  },
  {
   "cell_type": "markdown",
   "id": "3768e02a-a655-4dd2-a6d9-85a746c59a72",
   "metadata": {},
   "source": [
    "# Pooled T-test"
   ]
  },
  {
   "cell_type": "markdown",
   "id": "01a65f72-0ed8-4a23-b6ad-7edb6ffc6302",
   "metadata": {},
   "source": [
    "2 groups, Independent Samples, both normal, equal variances."
   ]
  },
  {
   "cell_type": "code",
   "execution_count": 28,
   "id": "4e635c5d-389c-42e8-811b-cfe9b9426136",
   "metadata": {},
   "outputs": [
    {
     "name": "stdout",
     "output_type": "stream",
     "text": [
      "== Pooled Two-Sample t-test ==\n",
      "t statistic: 2.52\n",
      "One-sided p-value (μB > μA): 0.0062\n",
      "\n",
      "Reject H0: Evidence that Group B has a higher mean than Group A.\n"
     ]
    }
   ],
   "source": [
    "# Generate data\n",
    "np.random.seed(25)                      # Reproducibility\n",
    "n_A, n_B = 120, 120                     # Sample sizes (independent groups)\n",
    "mu_A, mu_B = 100.0, 105.0               # Group means (B > A for one-sided question)\n",
    "sigma = 15.0                            # Common population SD (equal variances by design)\n",
    "\n",
    "A = np.random.normal(mu_A, sigma, n_A)  # Group A ~ Normal(μA, σ)\n",
    "B = np.random.normal(mu_B, sigma, n_B)\n",
    "\n",
    "# Pooled t-test\n",
    "res_pooled = stats.ttest_ind(B, A, equal_var=True, alternative='greater')\n",
    "\n",
    "print(\"== Pooled Two-Sample t-test ==\")\n",
    "print(f\"t statistic: {res_pooled.statistic:.2f}\")               # Report t statistic\n",
    "print(f\"One-sided p-value (μB > μA): {res_pooled.pvalue:.4f}\")  # One-sided p-value\n",
    "print()\n",
    "\n",
    "# Decision Rule\n",
    "alpha = 0.05                                                    # Significance level\n",
    "if res_pooled.pvalue < alpha:\n",
    "    print(\"Reject H0: Evidence that Group B has a higher mean than Group A.\") # Significant result\n",
    "else:\n",
    "    print(\"Fail to reject H0: No evidence that Group B has a higher mean.\")   # Not significant"
   ]
  },
  {
   "cell_type": "markdown",
   "id": "75a37e83-cebf-444a-ac41-e75d2afa8de7",
   "metadata": {},
   "source": [
    "# Welch’s t-test\n",
    "2 groups, Independent Samples, both normal, unequal variances."
   ]
  },
  {
   "cell_type": "code",
   "execution_count": 29,
   "id": "43eb3e0c-1234-496b-a300-bd8df5f9d2c7",
   "metadata": {},
   "outputs": [
    {
     "name": "stdout",
     "output_type": "stream",
     "text": [
      "== Welch's Two-Sample t-test ==\n",
      "t statistic: 2.62\n",
      "One-sided p-value (μB > μA): 0.0047\n",
      "\n",
      "Reject H0: Evidence that Branch B has a higher mean than Branch A.\n"
     ]
    }
   ],
   "source": [
    "# Generate Data\n",
    "np.random.seed(25)                        # Reproducibility\n",
    "n_A, n_B = 120, 120                       # Sample sizes (independent groups)\n",
    "mu_A, mu_B = 100.0, 105.0                 # Group means (B > A for one-sided question)\n",
    "sigma1, sigma2 = 13.0, 15.0               # Common population SD (unequal variances by design)\n",
    "\n",
    "A = np.random.normal(mu_A, sigma1, n_A)   # Group A\n",
    "B = np.random.normal(mu_B, sigma2, n_B)   # Group B\n",
    "\n",
    "# Welch’s t-test\n",
    "res_welch = stats.ttest_ind(B, A, equal_var=False, alternative='greater')\n",
    "\n",
    "print(\"== Welch's Two-Sample t-test ==\")\n",
    "print(f\"t statistic: {res_welch.statistic:.2f}\")       # Report t statistic\n",
    "print(f\"One-sided p-value (μB > μA): {res_welch.pvalue:.4f}\")  # One-sided p-value\n",
    "print()\n",
    "\n",
    "# Decision Rule\n",
    "alpha = 0.05\n",
    "if res_welch.pvalue < alpha:\n",
    "    print(\"Reject H0: Evidence that Branch B has a higher mean than Branch A.\")\n",
    "else:\n",
    "    print(\"Fail to reject H0: No evidence that Branch B has a higher mean.\")"
   ]
  },
  {
   "cell_type": "markdown",
   "id": "072f56a3-344d-4c60-8d3d-68e828443e75",
   "metadata": {},
   "source": [
    "# Mann-Whitney U test \n",
    "\n",
    "2 groups, independent, non-normal distributions."
   ]
  },
  {
   "cell_type": "code",
   "execution_count": 30,
   "id": "3518e09a-29a0-46ea-8ed5-8dcfddd1380a",
   "metadata": {},
   "outputs": [
    {
     "name": "stdout",
     "output_type": "stream",
     "text": [
      "== Mann–Whitney U test ==\n",
      "U statistic: 10004.50\n",
      "One-sided p-value (Store B > Store A): 0.0000\n",
      "\n",
      "Reject H0: Evidence that Store B has higher satisfaction ratings than Store A.\n"
     ]
    }
   ],
   "source": [
    "# Generate Data (skewed ratings 1–10)\n",
    "np.random.seed(25)                                   # Reproducibility\n",
    "n_A, n_B = 120, 120                                  # Sample sizes (independent groups)\n",
    "\n",
    "# Store A: more low ratings, skewed distribution\n",
    "A = np.random.choice([2, 3, 4, 5, 6, 7, 8, 9], size=n_A, p=[0.15, 0.10, 0.10, 0.15, 0.15, 0.15, 0.10, 0.10])\n",
    "\n",
    "# Store B: more high ratings, skewed distribution\n",
    "B = np.random.choice([2, 3, 4, 5, 6, 7, 8, 9, 10], size=n_B, p=[0.05, 0.05, 0.05, 0.10, 0.10, 0.15, 0.20, 0.15, 0.15])\n",
    "\n",
    "\n",
    "# Mann–Whitney U test (non-parametric, one-sided H1: B > A)\n",
    "res_mw = stats.mannwhitneyu(B, A, alternative='greater')\n",
    "\n",
    "print(\"== Mann–Whitney U test ==\")\n",
    "print(f\"U statistic: {res_mw.statistic:.2f}\")                         # Report U statistic\n",
    "print(f\"One-sided p-value (Store B > Store A): {res_mw.pvalue:.4f}\")  # One-sided p-value\n",
    "print()\n",
    "\n",
    "# Decision Rule\n",
    "alpha = 0.05\n",
    "if res_mw.pvalue < alpha:\n",
    "    print(\"Reject H0: Evidence that Store B has higher satisfaction ratings than Store A.\")\n",
    "else:\n",
    "    print(\"Fail to reject H0: No evidence that Store B has higher satisfaction ratings.\")"
   ]
  },
  {
   "cell_type": "markdown",
   "id": "b0c68386-bcb1-4e28-a4cc-94a86a5e17f7",
   "metadata": {},
   "source": [
    "# Paired T-test"
   ]
  },
  {
   "cell_type": "markdown",
   "id": "ebc74258-88af-48ec-994f-bf62ccb74ff3",
   "metadata": {},
   "source": [
    "2 groups, dependent, normal distributions"
   ]
  },
  {
   "cell_type": "code",
   "execution_count": 31,
   "id": "a5d5950c-8074-4673-9066-10755bca1741",
   "metadata": {},
   "outputs": [
    {
     "name": "stdout",
     "output_type": "stream",
     "text": [
      "== Paired t-test ==\n",
      "t statistic: 9.64\n",
      "One-sided p-value (After < Before): 0.0000\n",
      "\n",
      "Reject H0: Evidence that clients complete workouts faster after the program.\n"
     ]
    }
   ],
   "source": [
    "# Generate Data (Workout times in minutes)\n",
    "np.random.seed(42)                         # Reproducibility\n",
    "n_clients = 40                             # Sample size (paired observations)\n",
    "\n",
    "before = np.random.normal(loc=50, scale=5, size=n_clients)          # Times before program\n",
    "after  = before - np.random.normal(loc=3, scale=2, size=n_clients)  # After program\n",
    "\n",
    "\n",
    "# Paired t-test (same clients measured twice)\n",
    "res_paired = stats.ttest_rel(before, after, alternative='greater') \n",
    "\n",
    "print(\"== Paired t-test ==\")\n",
    "print(f\"t statistic: {res_paired.statistic:.2f}\")                      # Report t statistic\n",
    "print(f\"One-sided p-value (After < Before): {res_paired.pvalue:.4f}\")  # One-sided p-value\n",
    "print()\n",
    "\n",
    "# Decision Rule\n",
    "alpha = 0.05\n",
    "if res_paired.pvalue < alpha:\n",
    "    print(\"Reject H0: Evidence that clients complete workouts faster after the program.\")\n",
    "else:\n",
    "    print(\"Fail to reject H0: No evidence of improvement in workout times.\")"
   ]
  },
  {
   "cell_type": "markdown",
   "id": "6b11b766-c8aa-4a39-bb13-803255e295b7",
   "metadata": {},
   "source": [
    "# Wilcoxon Signed-Rank test"
   ]
  },
  {
   "cell_type": "markdown",
   "id": "d8cbe52f-dc4b-4bab-9c6d-24060e36ea2a",
   "metadata": {},
   "source": [
    "2 groups, dependent, non-normal distributions"
   ]
  },
  {
   "cell_type": "code",
   "execution_count": 32,
   "id": "fee6c1e3-7515-4dd8-a38a-c0fe585da3cc",
   "metadata": {},
   "outputs": [
    {
     "name": "stdout",
     "output_type": "stream",
     "text": [
      "== Wilcoxon Signed-Rank test ==\n",
      "Statistic: 465.00\n",
      "One-sided p-value (After < Before): 0.0000\n",
      "\n",
      "Reject H0: Evidence that waiting times are shorter after the new system.\n"
     ]
    }
   ],
   "source": [
    "# Generate Data (Customer waiting times in minutes)\n",
    "np.random.seed(42)                                       # Reproducibility\n",
    "n_locations = 30                                         # Number of locations (paired observations)\n",
    "\n",
    "before = np.random.exponential(scale=15, size=n_locations)          # Skewed distribution (before system)\n",
    "after  = before - np.random.exponential(scale=5, size=n_locations)  # After system: shorter on average\n",
    "\n",
    "\n",
    "# Wilcoxon Signed-Rank test (non-parametric paired test)\n",
    "res_wilcoxon = stats.wilcoxon(before, after, alternative='greater')\n",
    "\n",
    "print(\"== Wilcoxon Signed-Rank test ==\")\n",
    "print(f\"Statistic: {res_wilcoxon.statistic:.2f}\")                        # Report test statistic\n",
    "print(f\"One-sided p-value (After < Before): {res_wilcoxon.pvalue:.4f}\")  # One-sided p-value\n",
    "print()\n",
    "\n",
    "# Decision Rule\n",
    "alpha = 0.05\n",
    "if res_wilcoxon.pvalue < alpha:\n",
    "    print(\"Reject H0: Evidence that waiting times are shorter after the new system.\")\n",
    "else:\n",
    "    print(\"Fail to reject H0: No evidence of shorter waiting times after the new system.\")"
   ]
  },
  {
   "cell_type": "markdown",
   "id": "016bc7b9-2703-4e0f-8d4b-67284b18c6ce",
   "metadata": {},
   "source": [
    "# One-Way ANOVA\n",
    "\n",
    "More than 2 groups, independent samples, normal distributions, equal variances"
   ]
  },
  {
   "cell_type": "code",
   "execution_count": 36,
   "id": "e91bb383-7051-4905-916e-a84e6f3db418",
   "metadata": {},
   "outputs": [
    {
     "name": "stdout",
     "output_type": "stream",
     "text": [
      "========== One-Way ANOVA ==========\n",
      "F statistic: 9.33\n",
      "p-value: 0.0001\n",
      "Group means (TV, Online, Print): 120.66, 129.47, 117.10\n",
      "\n",
      "Reject H0: Evidence that at least one strategy has a different mean sales.\n",
      "\n",
      "========== Tukey's HSD Post-hoc ==========\n",
      " Multiple Comparison of Means - Tukey HSD, FWER=0.05 \n",
      "=====================================================\n",
      "group1 group2 meandiff p-adj   lower    upper  reject\n",
      "-----------------------------------------------------\n",
      "Online  Print -12.3644 0.0001 -19.3299 -5.3989   True\n",
      "Online     TV  -8.8045  0.009   -15.77  -1.839   True\n",
      " Print     TV   3.5599   0.45  -3.4056 10.5254  False\n",
      "-----------------------------------------------------\n",
      "\n",
      "Interpretation: 'reject=True' indicates a significant difference for that pair.\n"
     ]
    }
   ],
   "source": [
    "# -----------------------------\n",
    "# Generate Data (Monthly sales by strategy)\n",
    "# -----------------------------\n",
    "np.random.seed(25)                          # Reproducibility\n",
    "n_tv = n_online = n_print = 60              # Sample sizes per strategy\n",
    "\n",
    "# Simulate approximately normal sales with similar variances\n",
    "sales_tv     = np.random.normal(loc=120, scale=15, size=n_tv)     # TV\n",
    "sales_online = np.random.normal(loc=132, scale=15, size=n_online) # Online (higher mean)\n",
    "sales_print  = np.random.normal(loc=118, scale=15, size=n_print)  # Print\n",
    "\n",
    "# Assemble long-format DataFrame (useful for Tukey)\n",
    "df = pd.DataFrame({\n",
    "    \"sales\": np.r_[sales_tv, sales_online, sales_print],\n",
    "    \"strategy\": ([\"TV\"]*n_tv) + ([\"Online\"]*n_online) + ([\"Print\"]*n_print)})\n",
    "\n",
    "# -----------------------------\n",
    "# One-Way ANOVA\n",
    "# -----------------------------\n",
    "F, p_anova = stats.f_oneway(sales_tv, sales_online, sales_print)\n",
    "\n",
    "print(\"========== One-Way ANOVA ==========\")\n",
    "print(f\"F statistic: {F:.2f}\")\n",
    "print(f\"p-value: {p_anova:.4f}\")\n",
    "print(f\"Group means (TV, Online, Print): {np.mean(sales_tv):.2f}, {np.mean(sales_online):.2f}, {np.mean(sales_print):.2f}\\n\")\n",
    "\n",
    "# Decision Rule\n",
    "alpha = 0.05\n",
    "if p_anova < alpha:\n",
    "    print(\"Reject H0: Evidence that at least one strategy has a different mean sales.\\n\")\n",
    "\n",
    "    # -----------------------------\n",
    "    # Tukey’s HSD post-hoc (identify which pairs differ)\n",
    "    # -----------------------------\n",
    "    tukey = pairwise_tukeyhsd(endog=df[\"sales\"], groups=df[\"strategy\"], alpha=alpha)\n",
    "    print(\"========== Tukey's HSD Post-hoc ==========\")\n",
    "    print(tukey.summary())\n",
    "    print(\"\\nInterpretation: 'reject=True' indicates a significant difference for that pair.\")\n",
    "else:\n",
    "    print(\"Fail to reject H0: No evidence of differences in mean sales across strategies.\")"
   ]
  },
  {
   "cell_type": "markdown",
   "id": "3ababf90-b086-44e0-b3f2-f54cd51a08d5",
   "metadata": {},
   "source": [
    "# Welch’s ANOVA\n",
    "\n",
    "More than 2 groups, independent samples, normal distributions, unequal variances"
   ]
  },
  {
   "cell_type": "code",
   "execution_count": 56,
   "id": "c6634c92-f96b-47b7-ab71-4d6d2a873153",
   "metadata": {},
   "outputs": [
    {
     "name": "stdout",
     "output_type": "stream",
     "text": [
      "============ Welch’s ANOVA ============\n",
      "F(2.00, 247.85) = 56.16\n",
      "p-value: 0.0000\n",
      "Group means (Basic, Standard, Premium): 18.15, 21.12, 27.66\n",
      "\n",
      "Reject H0: Evidence that at least one plan has a different mean ARPU.\n",
      "\n",
      "====== Games–Howell Post-hoc (p-values) ======\n",
      "         A         B  mean(A)  mean(B)    diff      se        T        df  \\\n",
      "0    Basic   Premium  18.1519  27.6589 -9.5070  0.9138 -10.4035  236.3100   \n",
      "1    Basic  Standard  18.1519  21.1203 -2.9683  0.9258  -3.2064  206.0702   \n",
      "2  Premium  Standard  27.6589  21.1203  6.5386  0.9342   6.9993  336.1276   \n",
      "\n",
      "     pval  hedges  \n",
      "0  0.0000 -1.0775  \n",
      "1  0.0044 -0.4110  \n",
      "2  0.0000  0.7225  \n",
      "\n",
      "Interpretation: p < 0.05 indicates a significant pairwise difference.\n",
      "\n"
     ]
    }
   ],
   "source": [
    "# Generate Data (ARPU by plan; unequal n and unequal variances)\n",
    "np.random.seed(25)                                 # Reproducibility\n",
    "n_basic, n_standard, n_premium = 80, 140, 220      # Unequal sample sizes (unbalanced markets)\n",
    "\n",
    "# ARPU means and standard deviations (heteroscedastic)\n",
    "mu_basic,    sd_basic    = 18.0, 5.0\n",
    "mu_standard, sd_standard = 22.0, 7.5\n",
    "mu_premium,  sd_premium  = 27.0, 9.5\n",
    "\n",
    "basic    = np.random.normal(mu_basic,    sd_basic,    n_basic)\n",
    "standard = np.random.normal(mu_standard, sd_standard, n_standard)\n",
    "premium  = np.random.normal(mu_premium,  sd_premium,  n_premium)\n",
    "\n",
    "# Long-format DataFrame for convenience\n",
    "df = pd.DataFrame({\"ARPU\": np.r_[basic, standard, premium],\n",
    "                   \"plan\": ([\"Basic\"] * n_basic) + ([\"Standard\"] * n_standard) + ([\"Premium\"] * n_premium)})\n",
    "\n",
    "# Welch’s ANOVA (no equal-variance assumption; robust to unequal n)\n",
    "wa = anova_oneway(df[\"ARPU\"], groups=df[\"plan\"], use_var=\"unequal\")  # Welch's\n",
    "F_welch = wa.statistic\n",
    "df_num, df_den = wa.df  # numerator, denominator dfs\n",
    "p_welch = wa.pvalue\n",
    "\n",
    "print(\"============ Welch’s ANOVA ============\")\n",
    "print(f\"F({df_num:.2f}, {df_den:.2f}) = {F_welch:.2f}\")\n",
    "print(f\"p-value: {p_welch:.4f}\")\n",
    "print(f\"Group means (Basic, Standard, Premium): \"\n",
    "      f\"{basic.mean():.2f}, {standard.mean():.2f}, {premium.mean():.2f}\\n\")\n",
    "\n",
    "# Decision rule\n",
    "alpha = 0.05\n",
    "if p_welch < alpha:\n",
    "    print(\"Reject H0: Evidence that at least one plan has a different mean ARPU.\\n\")\n",
    "\n",
    "    # Games–Howell post-hoc (pairwise, unequal variances and n)\n",
    "    gh = pg.pairwise_gameshowell(dv=\"ARPU\", between=\"plan\", data=df)  # Games-Howell test\n",
    "    print(\"====== Games–Howell Post-hoc (p-values) ======\")\n",
    "    print(gh.round(4))\n",
    "    print(\"\\nInterpretation: p < 0.05 indicates a significant pairwise difference.\\n\")\n",
    "else:\n",
    "    print(\"Fail to reject H0: No evidence of differences in mean ARPU across plans.\")"
   ]
  },
  {
   "cell_type": "markdown",
   "id": "85adabc5-8b61-4759-b60f-f98a7e28246e",
   "metadata": {},
   "source": [
    "# Kruskal-Wallis test\n",
    "\n",
    "More than 2 groups, independent samples, non-normal distributions"
   ]
  },
  {
   "cell_type": "code",
   "execution_count": 59,
   "id": "22bb77aa-2492-46b5-a2c7-4300f41ad6f4",
   "metadata": {},
   "outputs": [
    {
     "name": "stdout",
     "output_type": "stream",
     "text": [
      "============ Kruskal–Wallis Test ============\n",
      "H statistic: 26.13\n",
      "p-value: 0.0000\n",
      "Group medians (Dine-in, Takeout, Delivery): 7.00, 6.00, 7.00\n",
      "\n",
      "Reject H0: Evidence that at least one service model differs in satisfaction distribution.\n",
      "\n",
      "====== Dunn’s Post-hoc (Holm-adjusted p-values) ======\n",
      "          Delivery  Dine-in  Takeout\n",
      "Delivery    1.0000   0.1306   0.0000\n",
      "Dine-in     0.1306   1.0000   0.0037\n",
      "Takeout     0.0000   0.0037   1.0000\n",
      "\n",
      "Interpretation: p < 0.05 indicates a significant pairwise difference.\n",
      "\n"
     ]
    }
   ],
   "source": [
    "# Generate Data (Customer satisfaction 1–10; ordinal & skewed)\n",
    "np.random.seed(25)                                  # Reproducibility\n",
    "n_dinein, n_takeout, n_delivery = 120, 150, 180     # Unequal sample sizes\n",
    "\n",
    "# Skewed/ordinal ratings for each service model\n",
    "dinein = np.random.choice([2,3,4,5,6,7,8,9,10], size=n_dinein, p=[0.05,0.05,0.07,0.10,0.12,0.18,0.18,0.15,0.10])\n",
    "takeout = np.random.choice([2,3,4,5,6,7,8,9,10], size=n_takeout, p=[0.08,0.08,0.10,0.14,0.16,0.16,0.12,0.10,0.06])\n",
    "delivery = np.random.choice([2,3,4,5,6,7,8,9,10], size=n_delivery, p=[0.04,0.04,0.06,0.10,0.14,0.18,0.18,0.16,0.10])\n",
    "\n",
    "# Long-format DataFrame for convenience\n",
    "df = pd.DataFrame({\"rating\": np.r_[dinein, takeout, delivery],\n",
    "                  \"service\": ([\"Dine-in\"] * n_dinein) + ([\"Takeout\"] * n_takeout) + ([\"Delivery\"] * n_delivery)})\n",
    "\n",
    "# Kruskal–Wallis (non-parametric omnibus, H0: distributions equal across groups)\n",
    "H, p_kw = stats.kruskal(dinein, takeout, delivery)\n",
    "print(\"============ Kruskal–Wallis Test ============\")\n",
    "print(f\"H statistic: {H:.2f}\")\n",
    "print(f\"p-value: {p_kw:.4f}\")\n",
    "print(f\"Group medians (Dine-in, Takeout, Delivery): \"\n",
    "      f\"{np.median(dinein):.2f}, {np.median(takeout):.2f}, {np.median(delivery):.2f}\\n\")\n",
    "\n",
    "# Decision rule\n",
    "alpha = 0.05\n",
    "if p_kw < alpha:\n",
    "    print(\"Reject H0: Evidence that at least one service model differs in satisfaction distribution.\\n\")\n",
    "\n",
    "    # Dunn’s post-hoc (pairwise, non-parametric; adjust for multiplicity)\n",
    "    dunn = sp.posthoc_dunn(df, val_col=\"rating\", group_col=\"service\", p_adjust=\"holm\")\n",
    "    print(\"====== Dunn’s Post-hoc (Holm-adjusted p-values) ======\")\n",
    "    print(dunn.round(4))\n",
    "    print(\"\\nInterpretation: p < 0.05 indicates a significant pairwise difference.\\n\")\n",
    "else:\n",
    "    print(\"Fail to reject H0: No evidence of differences in satisfaction across service models.\")"
   ]
  },
  {
   "cell_type": "code",
   "execution_count": null,
   "id": "eb152613-8327-41bd-9a2e-b2737e8237e4",
   "metadata": {},
   "outputs": [],
   "source": []
  },
  {
   "cell_type": "code",
   "execution_count": null,
   "id": "9af4345d-0cf9-4637-b74e-22c0f4b8cd07",
   "metadata": {},
   "outputs": [],
   "source": []
  },
  {
   "cell_type": "code",
   "execution_count": null,
   "id": "0682bb8b-4fcb-4562-9e1b-ca3dd2201ef2",
   "metadata": {},
   "outputs": [],
   "source": []
  }
 ],
 "metadata": {
  "kernelspec": {
   "display_name": "Python 3 (ipykernel)",
   "language": "python",
   "name": "python3"
  },
  "language_info": {
   "codemirror_mode": {
    "name": "ipython",
    "version": 3
   },
   "file_extension": ".py",
   "mimetype": "text/x-python",
   "name": "python",
   "nbconvert_exporter": "python",
   "pygments_lexer": "ipython3",
   "version": "3.12.7"
  }
 },
 "nbformat": 4,
 "nbformat_minor": 5
}
