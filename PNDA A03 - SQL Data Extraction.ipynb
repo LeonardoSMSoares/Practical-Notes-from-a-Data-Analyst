{
 "cells": [
  {
   "cell_type": "markdown",
   "id": "e2197cd2-2436-44da-9d1e-51607df1b384",
   "metadata": {},
   "source": [
    "# A.03 SQL Data Extraction"
   ]
  },
  {
   "cell_type": "code",
   "execution_count": 1,
   "id": "debbb485-128a-4920-9ab2-c75a746805dc",
   "metadata": {},
   "outputs": [],
   "source": [
    "import pandas as pd\n",
    "\n",
    "from sqlalchemy import create_engine\n",
    "import urllib\n",
    "\n",
    "# Set pandas to display all columns\n",
    "pd.set_option('display.max_columns', None)"
   ]
  },
  {
   "cell_type": "code",
   "execution_count": null,
   "id": "2df6568e-26a9-47c2-860d-2bf9551e50df",
   "metadata": {},
   "outputs": [],
   "source": [
    "# Build the connection string for SQLAlchemy using pyodbc\n",
    "params = urllib.parse.quote_plus(\n",
    "    \"Driver={ODBC Driver 17 for SQL Server};\"\n",
    "    \"Server=server_name;\"\n",
    "    \"Database=database_name;\"\n",
    "    \"Trusted_Connection=yes;\"\n",
    ")\n",
    "\n",
    "# Create Engine\n",
    "engine = create_engine(f\"mssql+pyodbc:///?odbc_connect={params}\")\n",
    "\n",
    "# Create Query\n",
    "query = \"\"\"\n",
    "select top 100 * from MainTable where Variable = 2240\n",
    "and Active = 1 and IsDeleted = 0 and key = 555\n",
    "\"\"\"\n",
    "\n",
    "# Use this engine in read_sql\n",
    "data = pd.read_sql(query, engine)\n",
    "\n",
    "# Show result\n",
    "data.head()"
   ]
  }
 ],
 "metadata": {
  "kernelspec": {
   "display_name": "Python 3 (ipykernel)",
   "language": "python",
   "name": "python3"
  },
  "language_info": {
   "codemirror_mode": {
    "name": "ipython",
    "version": 3
   },
   "file_extension": ".py",
   "mimetype": "text/x-python",
   "name": "python",
   "nbconvert_exporter": "python",
   "pygments_lexer": "ipython3",
   "version": "3.12.3"
  }
 },
 "nbformat": 4,
 "nbformat_minor": 5
}
